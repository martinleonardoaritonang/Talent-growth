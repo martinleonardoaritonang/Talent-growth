{
 "cells": [
  {
   "cell_type": "code",
   "execution_count": 168,
   "id": "a3fc0596",
   "metadata": {},
   "outputs": [],
   "source": [
    "# Martin Leonardo Aritonang\n",
    "# martinleonardoaritonang@gmail.com\n",
    "\n",
    "import pandas as pd\n",
    "import matplotlib.pyplot as plt\n",
    "from matplotlib import style\n",
    "import seaborn as sns\n",
    "import datetime\n",
    "import warnings\n",
    "warnings.filterwarnings('ignore')"
   ]
  },
  {
   "cell_type": "markdown",
   "id": "afe2d435",
   "metadata": {},
   "source": [
    "### 1. Cleansing Data"
   ]
  },
  {
   "cell_type": "markdown",
   "id": "9692604c",
   "metadata": {},
   "source": [
    "I used SQL to join the data in one table and here the result"
   ]
  },
  {
   "cell_type": "code",
   "execution_count": 116,
   "id": "de5b95c1",
   "metadata": {},
   "outputs": [],
   "source": [
    "df = pd.read_excel('Assessment.xlsx')"
   ]
  },
  {
   "cell_type": "code",
   "execution_count": 117,
   "id": "7319a6d1",
   "metadata": {},
   "outputs": [
    {
     "data": {
      "text/html": [
       "<div>\n",
       "<style scoped>\n",
       "    .dataframe tbody tr th:only-of-type {\n",
       "        vertical-align: middle;\n",
       "    }\n",
       "\n",
       "    .dataframe tbody tr th {\n",
       "        vertical-align: top;\n",
       "    }\n",
       "\n",
       "    .dataframe thead th {\n",
       "        text-align: right;\n",
       "    }\n",
       "</style>\n",
       "<table border=\"1\" class=\"dataframe\">\n",
       "  <thead>\n",
       "    <tr style=\"text-align: right;\">\n",
       "      <th></th>\n",
       "      <th>Date</th>\n",
       "      <th>channel_id</th>\n",
       "      <th>category_id</th>\n",
       "      <th>supplier_id</th>\n",
       "      <th>industry_id</th>\n",
       "      <th>pic_id</th>\n",
       "      <th>status</th>\n",
       "      <th>Revenue</th>\n",
       "      <th>Cost</th>\n",
       "      <th>commission</th>\n",
       "      <th>count</th>\n",
       "    </tr>\n",
       "  </thead>\n",
       "  <tbody>\n",
       "    <tr>\n",
       "      <th>0</th>\n",
       "      <td>2020-01-01</td>\n",
       "      <td>1</td>\n",
       "      <td>1</td>\n",
       "      <td>1</td>\n",
       "      <td>4</td>\n",
       "      <td>4</td>\n",
       "      <td>0</td>\n",
       "      <td>98845</td>\n",
       "      <td>99048</td>\n",
       "      <td>2970</td>\n",
       "      <td>3</td>\n",
       "    </tr>\n",
       "    <tr>\n",
       "      <th>1</th>\n",
       "      <td>2020-01-01</td>\n",
       "      <td>1</td>\n",
       "      <td>2</td>\n",
       "      <td>1</td>\n",
       "      <td>4</td>\n",
       "      <td>4</td>\n",
       "      <td>1</td>\n",
       "      <td>879565</td>\n",
       "      <td>879563</td>\n",
       "      <td>26387</td>\n",
       "      <td>2</td>\n",
       "    </tr>\n",
       "    <tr>\n",
       "      <th>2</th>\n",
       "      <td>2020-01-01</td>\n",
       "      <td>1</td>\n",
       "      <td>3</td>\n",
       "      <td>2</td>\n",
       "      <td>4</td>\n",
       "      <td>4</td>\n",
       "      <td>1</td>\n",
       "      <td>322580</td>\n",
       "      <td>322227</td>\n",
       "      <td>0</td>\n",
       "      <td>1</td>\n",
       "    </tr>\n",
       "    <tr>\n",
       "      <th>3</th>\n",
       "      <td>2020-01-01</td>\n",
       "      <td>1</td>\n",
       "      <td>4</td>\n",
       "      <td>3</td>\n",
       "      <td>4</td>\n",
       "      <td>4</td>\n",
       "      <td>1</td>\n",
       "      <td>1945450</td>\n",
       "      <td>1830540</td>\n",
       "      <td>0</td>\n",
       "      <td>7592</td>\n",
       "    </tr>\n",
       "    <tr>\n",
       "      <th>4</th>\n",
       "      <td>2020-01-01</td>\n",
       "      <td>1</td>\n",
       "      <td>4</td>\n",
       "      <td>3</td>\n",
       "      <td>4</td>\n",
       "      <td>4</td>\n",
       "      <td>0</td>\n",
       "      <td>310835</td>\n",
       "      <td>296239</td>\n",
       "      <td>3110</td>\n",
       "      <td>200</td>\n",
       "    </tr>\n",
       "  </tbody>\n",
       "</table>\n",
       "</div>"
      ],
      "text/plain": [
       "        Date  channel_id  category_id  supplier_id  industry_id  pic_id  \\\n",
       "0 2020-01-01           1            1            1            4       4   \n",
       "1 2020-01-01           1            2            1            4       4   \n",
       "2 2020-01-01           1            3            2            4       4   \n",
       "3 2020-01-01           1            4            3            4       4   \n",
       "4 2020-01-01           1            4            3            4       4   \n",
       "\n",
       "   status  Revenue     Cost  commission  count  \n",
       "0       0    98845    99048        2970      3  \n",
       "1       1   879565   879563       26387      2  \n",
       "2       1   322580   322227           0      1  \n",
       "3       1  1945450  1830540           0   7592  \n",
       "4       0   310835   296239        3110    200  "
      ]
     },
     "execution_count": 117,
     "metadata": {},
     "output_type": "execute_result"
    }
   ],
   "source": [
    "df.head()"
   ]
  },
  {
   "cell_type": "code",
   "execution_count": 118,
   "id": "da950d68",
   "metadata": {},
   "outputs": [
    {
     "data": {
      "text/plain": [
       "Date           0\n",
       "channel_id     0\n",
       "category_id    0\n",
       "supplier_id    0\n",
       "industry_id    0\n",
       "pic_id         0\n",
       "status         0\n",
       "Revenue        0\n",
       "Cost           0\n",
       "commission     0\n",
       "count          0\n",
       "dtype: int64"
      ]
     },
     "execution_count": 118,
     "metadata": {},
     "output_type": "execute_result"
    }
   ],
   "source": [
    "#check if there any null values\n",
    "df.isnull().sum()"
   ]
  },
  {
   "cell_type": "code",
   "execution_count": 119,
   "id": "f67d5f13",
   "metadata": {},
   "outputs": [
    {
     "data": {
      "text/plain": [
       "Date           datetime64[ns]\n",
       "channel_id              int64\n",
       "category_id             int64\n",
       "supplier_id             int64\n",
       "industry_id             int64\n",
       "pic_id                  int64\n",
       "status                  int64\n",
       "Revenue                 int64\n",
       "Cost                    int64\n",
       "commission              int64\n",
       "count                   int64\n",
       "dtype: object"
      ]
     },
     "execution_count": 119,
     "metadata": {},
     "output_type": "execute_result"
    }
   ],
   "source": [
    "# check datatype for each column\n",
    "df.dtypes"
   ]
  },
  {
   "cell_type": "code",
   "execution_count": 121,
   "id": "de631c8f",
   "metadata": {},
   "outputs": [],
   "source": [
    "# Because channel_id, category_id, supplier_id, and status are string, we need to change it from int to str\n",
    "\n",
    "df['channel_id'] = df['channel_id'].astype(object)\n",
    "df['category_id'] = df['category_id'].astype(object)\n",
    "df['supplier_id'] = df['supplier_id'].astype(object)\n",
    "df['industry_id'] = df['industry_id'].astype(object)\n",
    "df['pic_id'] = df['pic_id'].astype(object)\n",
    "df['status'] = df['status'].astype(object)"
   ]
  },
  {
   "cell_type": "code",
   "execution_count": 122,
   "id": "4cc29e4a",
   "metadata": {},
   "outputs": [
    {
     "data": {
      "text/plain": [
       "Date           datetime64[ns]\n",
       "channel_id             object\n",
       "category_id            object\n",
       "supplier_id            object\n",
       "industry_id            object\n",
       "pic_id                 object\n",
       "status                 object\n",
       "Revenue                 int64\n",
       "Cost                    int64\n",
       "commission              int64\n",
       "count                   int64\n",
       "dtype: object"
      ]
     },
     "execution_count": 122,
     "metadata": {},
     "output_type": "execute_result"
    }
   ],
   "source": [
    "#re-check the data types\n",
    "df.dtypes"
   ]
  },
  {
   "cell_type": "markdown",
   "id": "291f63cd",
   "metadata": {},
   "source": [
    "### 2. Data Analyst"
   ]
  },
  {
   "cell_type": "markdown",
   "id": "d2b1a1e9",
   "metadata": {},
   "source": [
    "#### 1. two channels that have the best sales performance"
   ]
  },
  {
   "cell_type": "code",
   "execution_count": 129,
   "id": "ef20b7be",
   "metadata": {},
   "outputs": [
    {
     "data": {
      "text/plain": [
       "channel_id\n",
       "1     24781598085\n",
       "9      6185959390\n",
       "14     4823541765\n",
       "13     4036365380\n",
       "3      3701017160\n",
       "Name: Revenue, dtype: int64"
      ]
     },
     "execution_count": 129,
     "metadata": {},
     "output_type": "execute_result"
    }
   ],
   "source": [
    "#search for the biggest total revenue for each channel_id\n",
    "df.groupby('channel_id')['Revenue'].sum().sort_values(ascending=False).head(5)"
   ]
  },
  {
   "cell_type": "code",
   "execution_count": 128,
   "id": "8b169295",
   "metadata": {},
   "outputs": [
    {
     "data": {
      "image/png": "[encoded data removed]",
      "text/plain": [
       "<Figure size 640x480 with 1 Axes>"
      ]
     },
     "metadata": {},
     "output_type": "display_data"
    }
   ],
   "source": [
    "#visualization\n",
    "\n",
    "index1 = df.groupby('channel_id')['Revenue'].sum().sort_values(ascending=False).head(5).index.astype(object)\n",
    "value1 = df.groupby('channel_id')['Revenue'].sum().sort_values(ascending=False).head(5).values\n",
    "x = [1, 2, 3, 4, 5]\n",
    "\n",
    "fig, ax = plt.subplots()\n",
    "ax.bar(x, value1, align='center')\n",
    "\n",
    "ax.set_title('5 Channels with the biggest total Revenue')\n",
    "ax.set_ylabel('Total Revenue')\n",
    "ax.set_xlabel('Channel_id')\n",
    "ax.set_xticks(x)\n",
    "ax.set_xticklabels(index1)\n",
    "\n",
    "plt.show()"
   ]
  },
  {
   "cell_type": "markdown",
   "id": "57752a0d",
   "metadata": {},
   "source": [
    "#### 2. two channels that have the worst sales performance"
   ]
  },
  {
   "cell_type": "code",
   "execution_count": 130,
   "id": "79363fcf",
   "metadata": {},
   "outputs": [
    {
     "data": {
      "text/plain": [
       "channel_id\n",
       "31     357150\n",
       "47    1552320\n",
       "62    1628950\n",
       "36    1794975\n",
       "66    1799040\n",
       "Name: Revenue, dtype: int64"
      ]
     },
     "execution_count": 130,
     "metadata": {},
     "output_type": "execute_result"
    }
   ],
   "source": [
    "#search for the lowest total revenue for each channel_ids\n",
    "df.groupby('channel_id')['Revenue'].sum().sort_values(ascending=True).head(5)"
   ]
  },
  {
   "cell_type": "code",
   "execution_count": 154,
   "id": "fae2c083",
   "metadata": {},
   "outputs": [
    {
     "data": {
      "image/png": "[encoded data removed]",
      "text/plain": [
       "<Figure size 640x480 with 1 Axes>"
      ]
     },
     "metadata": {},
     "output_type": "display_data"
    }
   ],
   "source": [
    "#Visualization\n",
    "\n",
    "index2 = df.groupby('channel_id')['Revenue'].sum().sort_values(ascending=True).head(5).index.astype(object)\n",
    "value2 =df.groupby('channel_id')['Revenue'].sum().sort_values(ascending=True).head(5).values\n",
    "x = [1,2,3,4,5]\n",
    "\n",
    "fig, ax = plt.subplots()\n",
    "\n",
    "ax.bar(x,value2, align='center', color='purple')\n",
    "ax.set_title('5 channels with the lowest total revenue')\n",
    "ax.set_xlabel('Channel_id')\n",
    "ax.set_ylabel('total revenue')\n",
    "\n",
    "ax.set_xticks(x)\n",
    "ax.set_xticklabels(index2)\n",
    "\n",
    "plt.show()"
   ]
  },
  {
   "cell_type": "markdown",
   "id": "a414e879",
   "metadata": {},
   "source": [
    "#### 3. the top 2 most profitable industries"
   ]
  },
  {
   "cell_type": "markdown",
   "id": "f7704fc9",
   "metadata": {},
   "source": [
    "To search which the most profitable industy and category, we need to know the profit first\n",
    "\n",
    "- Revenue is the total income\n",
    "- Cost is the fee, so\n",
    "- Profit = Revenue - Cost"
   ]
  },
  {
   "cell_type": "code",
   "execution_count": 133,
   "id": "18e5071e",
   "metadata": {},
   "outputs": [
    {
     "data": {
      "text/html": [
       "<div>\n",
       "<style scoped>\n",
       "    .dataframe tbody tr th:only-of-type {\n",
       "        vertical-align: middle;\n",
       "    }\n",
       "\n",
       "    .dataframe tbody tr th {\n",
       "        vertical-align: top;\n",
       "    }\n",
       "\n",
       "    .dataframe thead th {\n",
       "        text-align: right;\n",
       "    }\n",
       "</style>\n",
       "<table border=\"1\" class=\"dataframe\">\n",
       "  <thead>\n",
       "    <tr style=\"text-align: right;\">\n",
       "      <th></th>\n",
       "      <th>Date</th>\n",
       "      <th>channel_id</th>\n",
       "      <th>category_id</th>\n",
       "      <th>supplier_id</th>\n",
       "      <th>industry_id</th>\n",
       "      <th>pic_id</th>\n",
       "      <th>status</th>\n",
       "      <th>Revenue</th>\n",
       "      <th>Cost</th>\n",
       "      <th>commission</th>\n",
       "      <th>count</th>\n",
       "      <th>profit</th>\n",
       "    </tr>\n",
       "  </thead>\n",
       "  <tbody>\n",
       "    <tr>\n",
       "      <th>0</th>\n",
       "      <td>2020-01-01</td>\n",
       "      <td>1</td>\n",
       "      <td>1</td>\n",
       "      <td>1</td>\n",
       "      <td>4</td>\n",
       "      <td>4</td>\n",
       "      <td>0</td>\n",
       "      <td>98845</td>\n",
       "      <td>99048</td>\n",
       "      <td>2970</td>\n",
       "      <td>3</td>\n",
       "      <td>-203</td>\n",
       "    </tr>\n",
       "    <tr>\n",
       "      <th>1</th>\n",
       "      <td>2020-01-01</td>\n",
       "      <td>1</td>\n",
       "      <td>2</td>\n",
       "      <td>1</td>\n",
       "      <td>4</td>\n",
       "      <td>4</td>\n",
       "      <td>1</td>\n",
       "      <td>879565</td>\n",
       "      <td>879563</td>\n",
       "      <td>26387</td>\n",
       "      <td>2</td>\n",
       "      <td>2</td>\n",
       "    </tr>\n",
       "    <tr>\n",
       "      <th>2</th>\n",
       "      <td>2020-01-01</td>\n",
       "      <td>1</td>\n",
       "      <td>3</td>\n",
       "      <td>2</td>\n",
       "      <td>4</td>\n",
       "      <td>4</td>\n",
       "      <td>1</td>\n",
       "      <td>322580</td>\n",
       "      <td>322227</td>\n",
       "      <td>0</td>\n",
       "      <td>1</td>\n",
       "      <td>353</td>\n",
       "    </tr>\n",
       "    <tr>\n",
       "      <th>3</th>\n",
       "      <td>2020-01-01</td>\n",
       "      <td>1</td>\n",
       "      <td>4</td>\n",
       "      <td>3</td>\n",
       "      <td>4</td>\n",
       "      <td>4</td>\n",
       "      <td>1</td>\n",
       "      <td>1945450</td>\n",
       "      <td>1830540</td>\n",
       "      <td>0</td>\n",
       "      <td>7592</td>\n",
       "      <td>114910</td>\n",
       "    </tr>\n",
       "    <tr>\n",
       "      <th>4</th>\n",
       "      <td>2020-01-01</td>\n",
       "      <td>1</td>\n",
       "      <td>4</td>\n",
       "      <td>3</td>\n",
       "      <td>4</td>\n",
       "      <td>4</td>\n",
       "      <td>0</td>\n",
       "      <td>310835</td>\n",
       "      <td>296239</td>\n",
       "      <td>3110</td>\n",
       "      <td>200</td>\n",
       "      <td>14596</td>\n",
       "    </tr>\n",
       "    <tr>\n",
       "      <th>5</th>\n",
       "      <td>2020-01-01</td>\n",
       "      <td>1</td>\n",
       "      <td>5</td>\n",
       "      <td>4</td>\n",
       "      <td>4</td>\n",
       "      <td>4</td>\n",
       "      <td>1</td>\n",
       "      <td>478455</td>\n",
       "      <td>243509</td>\n",
       "      <td>0</td>\n",
       "      <td>27</td>\n",
       "      <td>234946</td>\n",
       "    </tr>\n",
       "    <tr>\n",
       "      <th>6</th>\n",
       "      <td>2020-01-01</td>\n",
       "      <td>1</td>\n",
       "      <td>6</td>\n",
       "      <td>3</td>\n",
       "      <td>4</td>\n",
       "      <td>4</td>\n",
       "      <td>0</td>\n",
       "      <td>1971805</td>\n",
       "      <td>1951451</td>\n",
       "      <td>0</td>\n",
       "      <td>33</td>\n",
       "      <td>20354</td>\n",
       "    </tr>\n",
       "    <tr>\n",
       "      <th>7</th>\n",
       "      <td>2020-01-01</td>\n",
       "      <td>1</td>\n",
       "      <td>7</td>\n",
       "      <td>5</td>\n",
       "      <td>4</td>\n",
       "      <td>4</td>\n",
       "      <td>1</td>\n",
       "      <td>1435105</td>\n",
       "      <td>1385945</td>\n",
       "      <td>28702</td>\n",
       "      <td>17</td>\n",
       "      <td>49160</td>\n",
       "    </tr>\n",
       "    <tr>\n",
       "      <th>8</th>\n",
       "      <td>2020-01-01</td>\n",
       "      <td>1</td>\n",
       "      <td>7</td>\n",
       "      <td>5</td>\n",
       "      <td>4</td>\n",
       "      <td>4</td>\n",
       "      <td>0</td>\n",
       "      <td>365630</td>\n",
       "      <td>366020</td>\n",
       "      <td>3656</td>\n",
       "      <td>4</td>\n",
       "      <td>-390</td>\n",
       "    </tr>\n",
       "    <tr>\n",
       "      <th>9</th>\n",
       "      <td>2020-01-01</td>\n",
       "      <td>1</td>\n",
       "      <td>8</td>\n",
       "      <td>1</td>\n",
       "      <td>4</td>\n",
       "      <td>4</td>\n",
       "      <td>0</td>\n",
       "      <td>420370</td>\n",
       "      <td>417390</td>\n",
       "      <td>0</td>\n",
       "      <td>2</td>\n",
       "      <td>2980</td>\n",
       "    </tr>\n",
       "  </tbody>\n",
       "</table>\n",
       "</div>"
      ],
      "text/plain": [
       "        Date channel_id category_id supplier_id industry_id pic_id status  \\\n",
       "0 2020-01-01          1           1           1           4      4      0   \n",
       "1 2020-01-01          1           2           1           4      4      1   \n",
       "2 2020-01-01          1           3           2           4      4      1   \n",
       "3 2020-01-01          1           4           3           4      4      1   \n",
       "4 2020-01-01          1           4           3           4      4      0   \n",
       "5 2020-01-01          1           5           4           4      4      1   \n",
       "6 2020-01-01          1           6           3           4      4      0   \n",
       "7 2020-01-01          1           7           5           4      4      1   \n",
       "8 2020-01-01          1           7           5           4      4      0   \n",
       "9 2020-01-01          1           8           1           4      4      0   \n",
       "\n",
       "   Revenue     Cost  commission  count  profit  \n",
       "0    98845    99048        2970      3    -203  \n",
       "1   879565   879563       26387      2       2  \n",
       "2   322580   322227           0      1     353  \n",
       "3  1945450  1830540           0   7592  114910  \n",
       "4   310835   296239        3110    200   14596  \n",
       "5   478455   243509           0     27  234946  \n",
       "6  1971805  1951451           0     33   20354  \n",
       "7  1435105  1385945       28702     17   49160  \n",
       "8   365630   366020        3656      4    -390  \n",
       "9   420370   417390           0      2    2980  "
      ]
     },
     "execution_count": 133,
     "metadata": {},
     "output_type": "execute_result"
    }
   ],
   "source": [
    "df['profit'] = df['Revenue'] - df['Cost']\n",
    "df.head(10)"
   ]
  },
  {
   "cell_type": "code",
   "execution_count": 134,
   "id": "ea75c68f",
   "metadata": {},
   "outputs": [
    {
     "data": {
      "text/plain": [
       "industry_id\n",
       "3    3383936354\n",
       "4    1004611995\n",
       "2     477087248\n",
       "1     104675596\n",
       "5       1911573\n",
       "6         19427\n",
       "Name: profit, dtype: int64"
      ]
     },
     "execution_count": 134,
     "metadata": {},
     "output_type": "execute_result"
    }
   ],
   "source": [
    "# search for the biggest total profit for each industry id\n",
    "df.groupby('industry_id')['profit'].sum().sort_values(ascending=False)"
   ]
  },
  {
   "cell_type": "code",
   "execution_count": 151,
   "id": "34127cf3",
   "metadata": {},
   "outputs": [
    {
     "data": {
      "image/png": "[encoded data removed]",
      "text/plain": [
       "<Figure size 640x480 with 1 Axes>"
      ]
     },
     "metadata": {},
     "output_type": "display_data"
    }
   ],
   "source": [
    "#visualization\n",
    "\n",
    "index3 = df.groupby('industry_id')['profit'].sum().sort_values(ascending=False).head(3).index\n",
    "value3 = df.groupby('industry_id')['profit'].sum().sort_values(ascending=False).head(3).values\n",
    "x_industry = [1,2,3]\n",
    "\n",
    "plt.bar(x_industry, value3, color='blue')\n",
    "plt.title('top 3 industry with the biggest total profit')\n",
    "plt.xlabel('industry_id')\n",
    "plt.ylabel('total profit')\n",
    "plt.xticks(x_industry,index3)\n",
    "\n",
    "plt.show()"
   ]
  },
  {
   "cell_type": "markdown",
   "id": "afad588e",
   "metadata": {},
   "source": [
    "#### 4. the top 2 most profitable category"
   ]
  },
  {
   "cell_type": "code",
   "execution_count": 144,
   "id": "3ef45bdc",
   "metadata": {},
   "outputs": [
    {
     "data": {
      "text/plain": [
       "category_id\n",
       "4     3492866353\n",
       "8      599206486\n",
       "1      245576604\n",
       "10     113632714\n",
       "6       97172653\n",
       "Name: profit, dtype: int64"
      ]
     },
     "execution_count": 144,
     "metadata": {},
     "output_type": "execute_result"
    }
   ],
   "source": [
    "#search for the most profitable for each category\n",
    "df.groupby('category_id')['profit'].sum().sort_values(ascending=False).head(5)"
   ]
  },
  {
   "cell_type": "code",
   "execution_count": 152,
   "id": "03286f50",
   "metadata": {},
   "outputs": [
    {
     "data": {
      "image/png": "[encoded data removed]",
      "text/plain": [
       "<Figure size 640x480 with 1 Axes>"
      ]
     },
     "metadata": {},
     "output_type": "display_data"
    }
   ],
   "source": [
    "#visualization\n",
    "\n",
    "index4 = df.groupby('category_id')['profit'].sum().sort_values(ascending=False).head(5).index\n",
    "value4 = df.groupby('category_id')['profit'].sum().sort_values(ascending=False).head(5).values\n",
    "x_category = [1,2,3,4,5]\n",
    "\n",
    "plt.bar(x_category,value4, color='green')\n",
    "plt.title('top 5 category with the biggest total profit')\n",
    "plt.xlabel('category_id')\n",
    "plt.ylabel('total_profit')\n",
    "plt.xticks(x_category, index4)\n",
    "\n",
    "plt.show()"
   ]
  },
  {
   "cell_type": "markdown",
   "id": "4c3a71fe",
   "metadata": {},
   "source": [
    "#### 5. PIC that have best perfomance from the profit that have been produced"
   ]
  },
  {
   "cell_type": "code",
   "execution_count": 150,
   "id": "511d1c56",
   "metadata": {},
   "outputs": [
    {
     "data": {
      "text/plain": [
       "pic_id\n",
       "6    3321448581\n",
       "4     782945512\n",
       "1     380887372\n",
       "8     196339732\n",
       "2     173438318\n",
       "Name: profit, dtype: int64"
      ]
     },
     "execution_count": 150,
     "metadata": {},
     "output_type": "execute_result"
    }
   ],
   "source": [
    "#search for the total profit for each pic_id\n",
    "df.groupby('pic_id')['profit'].sum().sort_values(ascending=False).head(5)"
   ]
  },
  {
   "cell_type": "code",
   "execution_count": 158,
   "id": "42a41fe0",
   "metadata": {},
   "outputs": [
    {
     "data": {
      "image/png": "[encoded data removed]",
      "text/plain": [
       "<Figure size 640x480 with 1 Axes>"
      ]
     },
     "metadata": {},
     "output_type": "display_data"
    }
   ],
   "source": [
    "#visualization\n",
    "\n",
    "index5 = df.groupby('pic_id')['profit'].sum().sort_values(ascending=False).head(5).index\n",
    "value5 = df.groupby('pic_id')['profit'].sum().sort_values(ascending=False).head(5).values\n",
    "x_pic = [1,2,3,4,5]\n",
    "\n",
    "plt.bar(x_pic, value5)\n",
    "plt.title('top 5 pic with the biggest total profit')\n",
    "plt.xlabel('pic_id')\n",
    "plt.ylabel('total_profit')\n",
    "plt.xticks(x_pic,index5)\n",
    "\n",
    "plt.show()"
   ]
  },
  {
   "cell_type": "markdown",
   "id": "4a175169",
   "metadata": {},
   "source": [
    "#### 6. Pic that have worst perfomance from the profit that have been produced"
   ]
  },
  {
   "cell_type": "code",
   "execution_count": 159,
   "id": "e963bc9d",
   "metadata": {},
   "outputs": [
    {
     "data": {
      "text/plain": [
       "pic_id\n",
       "5      8959043\n",
       "3     30366896\n",
       "7     77856739\n",
       "2    173438318\n",
       "8    196339732\n",
       "Name: profit, dtype: int64"
      ]
     },
     "execution_count": 159,
     "metadata": {},
     "output_type": "execute_result"
    }
   ],
   "source": [
    "#search for the total profit for each pic_id\n",
    "df.groupby('pic_id')['profit'].sum().sort_values(ascending=True).head(5)"
   ]
  },
  {
   "cell_type": "code",
   "execution_count": 161,
   "id": "04018872",
   "metadata": {},
   "outputs": [
    {
     "data": {
      "image/png": "[encoded data removed]",
      "text/plain": [
       "<Figure size 640x480 with 1 Axes>"
      ]
     },
     "metadata": {},
     "output_type": "display_data"
    }
   ],
   "source": [
    "#visualization\n",
    "\n",
    "index5 = df.groupby('pic_id')['profit'].sum().sort_values(ascending=True).head(5).index\n",
    "value5 = df.groupby('pic_id')['profit'].sum().sort_values(ascending=True).head(5).values\n",
    "x_pic = [1,2,3,4,5]\n",
    "\n",
    "plt.bar(x_pic, value5)\n",
    "plt.title('top 5 pic with the lowest total profit')\n",
    "plt.xlabel('pic_id')\n",
    "plt.ylabel('total_profit')\n",
    "plt.xticks(x_pic,index5)\n",
    "\n",
    "plt.show()"
   ]
  },
  {
   "cell_type": "markdown",
   "id": "8674848f",
   "metadata": {},
   "source": [
    "#### 7. Profit trend in 2020"
   ]
  },
  {
   "cell_type": "code",
   "execution_count": 202,
   "id": "b5a242c2",
   "metadata": {},
   "outputs": [
    {
     "data": {
      "text/html": [
       "<div>\n",
       "<style scoped>\n",
       "    .dataframe tbody tr th:only-of-type {\n",
       "        vertical-align: middle;\n",
       "    }\n",
       "\n",
       "    .dataframe tbody tr th {\n",
       "        vertical-align: top;\n",
       "    }\n",
       "\n",
       "    .dataframe thead th {\n",
       "        text-align: right;\n",
       "    }\n",
       "</style>\n",
       "<table border=\"1\" class=\"dataframe\">\n",
       "  <thead>\n",
       "    <tr style=\"text-align: right;\">\n",
       "      <th></th>\n",
       "      <th>Date</th>\n",
       "      <th>channel_id</th>\n",
       "      <th>category_id</th>\n",
       "      <th>supplier_id</th>\n",
       "      <th>industry_id</th>\n",
       "      <th>pic_id</th>\n",
       "      <th>status</th>\n",
       "      <th>Revenue</th>\n",
       "      <th>Cost</th>\n",
       "      <th>commission</th>\n",
       "      <th>count</th>\n",
       "      <th>profit</th>\n",
       "      <th>month</th>\n",
       "    </tr>\n",
       "  </thead>\n",
       "  <tbody>\n",
       "    <tr>\n",
       "      <th>0</th>\n",
       "      <td>2020-01-01</td>\n",
       "      <td>1</td>\n",
       "      <td>1</td>\n",
       "      <td>1</td>\n",
       "      <td>4</td>\n",
       "      <td>4</td>\n",
       "      <td>0</td>\n",
       "      <td>98845</td>\n",
       "      <td>99048</td>\n",
       "      <td>2970</td>\n",
       "      <td>3</td>\n",
       "      <td>-203</td>\n",
       "      <td>1</td>\n",
       "    </tr>\n",
       "    <tr>\n",
       "      <th>1</th>\n",
       "      <td>2020-01-01</td>\n",
       "      <td>1</td>\n",
       "      <td>2</td>\n",
       "      <td>1</td>\n",
       "      <td>4</td>\n",
       "      <td>4</td>\n",
       "      <td>1</td>\n",
       "      <td>879565</td>\n",
       "      <td>879563</td>\n",
       "      <td>26387</td>\n",
       "      <td>2</td>\n",
       "      <td>2</td>\n",
       "      <td>1</td>\n",
       "    </tr>\n",
       "    <tr>\n",
       "      <th>2</th>\n",
       "      <td>2020-01-01</td>\n",
       "      <td>1</td>\n",
       "      <td>3</td>\n",
       "      <td>2</td>\n",
       "      <td>4</td>\n",
       "      <td>4</td>\n",
       "      <td>1</td>\n",
       "      <td>322580</td>\n",
       "      <td>322227</td>\n",
       "      <td>0</td>\n",
       "      <td>1</td>\n",
       "      <td>353</td>\n",
       "      <td>1</td>\n",
       "    </tr>\n",
       "    <tr>\n",
       "      <th>3</th>\n",
       "      <td>2020-01-01</td>\n",
       "      <td>1</td>\n",
       "      <td>4</td>\n",
       "      <td>3</td>\n",
       "      <td>4</td>\n",
       "      <td>4</td>\n",
       "      <td>1</td>\n",
       "      <td>1945450</td>\n",
       "      <td>1830540</td>\n",
       "      <td>0</td>\n",
       "      <td>7592</td>\n",
       "      <td>114910</td>\n",
       "      <td>1</td>\n",
       "    </tr>\n",
       "    <tr>\n",
       "      <th>4</th>\n",
       "      <td>2020-01-01</td>\n",
       "      <td>1</td>\n",
       "      <td>4</td>\n",
       "      <td>3</td>\n",
       "      <td>4</td>\n",
       "      <td>4</td>\n",
       "      <td>0</td>\n",
       "      <td>310835</td>\n",
       "      <td>296239</td>\n",
       "      <td>3110</td>\n",
       "      <td>200</td>\n",
       "      <td>14596</td>\n",
       "      <td>1</td>\n",
       "    </tr>\n",
       "    <tr>\n",
       "      <th>...</th>\n",
       "      <td>...</td>\n",
       "      <td>...</td>\n",
       "      <td>...</td>\n",
       "      <td>...</td>\n",
       "      <td>...</td>\n",
       "      <td>...</td>\n",
       "      <td>...</td>\n",
       "      <td>...</td>\n",
       "      <td>...</td>\n",
       "      <td>...</td>\n",
       "      <td>...</td>\n",
       "      <td>...</td>\n",
       "      <td>...</td>\n",
       "    </tr>\n",
       "    <tr>\n",
       "      <th>86028</th>\n",
       "      <td>2021-03-31</td>\n",
       "      <td>33</td>\n",
       "      <td>11</td>\n",
       "      <td>10</td>\n",
       "      <td>4</td>\n",
       "      <td>1</td>\n",
       "      <td>1</td>\n",
       "      <td>528405</td>\n",
       "      <td>349355</td>\n",
       "      <td>10570</td>\n",
       "      <td>82</td>\n",
       "      <td>179050</td>\n",
       "      <td>3</td>\n",
       "    </tr>\n",
       "    <tr>\n",
       "      <th>86029</th>\n",
       "      <td>2021-03-31</td>\n",
       "      <td>33</td>\n",
       "      <td>9</td>\n",
       "      <td>21</td>\n",
       "      <td>4</td>\n",
       "      <td>1</td>\n",
       "      <td>1</td>\n",
       "      <td>1844385</td>\n",
       "      <td>1844010</td>\n",
       "      <td>0</td>\n",
       "      <td>1</td>\n",
       "      <td>375</td>\n",
       "      <td>3</td>\n",
       "    </tr>\n",
       "    <tr>\n",
       "      <th>86030</th>\n",
       "      <td>2021-03-31</td>\n",
       "      <td>33</td>\n",
       "      <td>7</td>\n",
       "      <td>26</td>\n",
       "      <td>4</td>\n",
       "      <td>1</td>\n",
       "      <td>1</td>\n",
       "      <td>1816005</td>\n",
       "      <td>1817735</td>\n",
       "      <td>36320</td>\n",
       "      <td>4</td>\n",
       "      <td>-1730</td>\n",
       "      <td>3</td>\n",
       "    </tr>\n",
       "    <tr>\n",
       "      <th>86031</th>\n",
       "      <td>2021-03-31</td>\n",
       "      <td>33</td>\n",
       "      <td>4</td>\n",
       "      <td>30</td>\n",
       "      <td>4</td>\n",
       "      <td>1</td>\n",
       "      <td>1</td>\n",
       "      <td>1911990</td>\n",
       "      <td>1911951</td>\n",
       "      <td>0</td>\n",
       "      <td>7</td>\n",
       "      <td>39</td>\n",
       "      <td>3</td>\n",
       "    </tr>\n",
       "    <tr>\n",
       "      <th>86032</th>\n",
       "      <td>2021-03-31</td>\n",
       "      <td>33</td>\n",
       "      <td>3</td>\n",
       "      <td>26</td>\n",
       "      <td>4</td>\n",
       "      <td>1</td>\n",
       "      <td>1</td>\n",
       "      <td>282435</td>\n",
       "      <td>81337</td>\n",
       "      <td>5650</td>\n",
       "      <td>133</td>\n",
       "      <td>201098</td>\n",
       "      <td>3</td>\n",
       "    </tr>\n",
       "  </tbody>\n",
       "</table>\n",
       "<p>86033 rows × 13 columns</p>\n",
       "</div>"
      ],
      "text/plain": [
       "            Date channel_id category_id supplier_id industry_id pic_id status  \\\n",
       "0     2020-01-01          1           1           1           4      4      0   \n",
       "1     2020-01-01          1           2           1           4      4      1   \n",
       "2     2020-01-01          1           3           2           4      4      1   \n",
       "3     2020-01-01          1           4           3           4      4      1   \n",
       "4     2020-01-01          1           4           3           4      4      0   \n",
       "...          ...        ...         ...         ...         ...    ...    ...   \n",
       "86028 2021-03-31         33          11          10           4      1      1   \n",
       "86029 2021-03-31         33           9          21           4      1      1   \n",
       "86030 2021-03-31         33           7          26           4      1      1   \n",
       "86031 2021-03-31         33           4          30           4      1      1   \n",
       "86032 2021-03-31         33           3          26           4      1      1   \n",
       "\n",
       "       Revenue     Cost  commission  count  profit  month  \n",
       "0        98845    99048        2970      3    -203      1  \n",
       "1       879565   879563       26387      2       2      1  \n",
       "2       322580   322227           0      1     353      1  \n",
       "3      1945450  1830540           0   7592  114910      1  \n",
       "4       310835   296239        3110    200   14596      1  \n",
       "...        ...      ...         ...    ...     ...    ...  \n",
       "86028   528405   349355       10570     82  179050      3  \n",
       "86029  1844385  1844010           0      1     375      3  \n",
       "86030  1816005  1817735       36320      4   -1730      3  \n",
       "86031  1911990  1911951           0      7      39      3  \n",
       "86032   282435    81337        5650    133  201098      3  \n",
       "\n",
       "[86033 rows x 13 columns]"
      ]
     },
     "execution_count": 202,
     "metadata": {},
     "output_type": "execute_result"
    }
   ],
   "source": [
    "#Make a new column with a month value in there\n",
    "df['month'] = df['Date'].dt.month\n",
    "df"
   ]
  },
  {
   "cell_type": "code",
   "execution_count": 197,
   "id": "038b4b7a",
   "metadata": {},
   "outputs": [
    {
     "data": {
      "text/html": [
       "<div>\n",
       "<style scoped>\n",
       "    .dataframe tbody tr th:only-of-type {\n",
       "        vertical-align: middle;\n",
       "    }\n",
       "\n",
       "    .dataframe tbody tr th {\n",
       "        vertical-align: top;\n",
       "    }\n",
       "\n",
       "    .dataframe thead th {\n",
       "        text-align: right;\n",
       "    }\n",
       "</style>\n",
       "<table border=\"1\" class=\"dataframe\">\n",
       "  <thead>\n",
       "    <tr style=\"text-align: right;\">\n",
       "      <th></th>\n",
       "      <th>Date</th>\n",
       "      <th>channel_id</th>\n",
       "      <th>category_id</th>\n",
       "      <th>supplier_id</th>\n",
       "      <th>industry_id</th>\n",
       "      <th>pic_id</th>\n",
       "      <th>status</th>\n",
       "      <th>Revenue</th>\n",
       "      <th>Cost</th>\n",
       "      <th>commission</th>\n",
       "      <th>count</th>\n",
       "      <th>profit</th>\n",
       "      <th>month</th>\n",
       "    </tr>\n",
       "  </thead>\n",
       "  <tbody>\n",
       "    <tr>\n",
       "      <th>0</th>\n",
       "      <td>2020-01-01</td>\n",
       "      <td>1</td>\n",
       "      <td>1</td>\n",
       "      <td>1</td>\n",
       "      <td>4</td>\n",
       "      <td>4</td>\n",
       "      <td>0</td>\n",
       "      <td>98845</td>\n",
       "      <td>99048</td>\n",
       "      <td>2970</td>\n",
       "      <td>3</td>\n",
       "      <td>-203</td>\n",
       "      <td>1</td>\n",
       "    </tr>\n",
       "    <tr>\n",
       "      <th>1</th>\n",
       "      <td>2020-01-01</td>\n",
       "      <td>1</td>\n",
       "      <td>2</td>\n",
       "      <td>1</td>\n",
       "      <td>4</td>\n",
       "      <td>4</td>\n",
       "      <td>1</td>\n",
       "      <td>879565</td>\n",
       "      <td>879563</td>\n",
       "      <td>26387</td>\n",
       "      <td>2</td>\n",
       "      <td>2</td>\n",
       "      <td>1</td>\n",
       "    </tr>\n",
       "    <tr>\n",
       "      <th>2</th>\n",
       "      <td>2020-01-01</td>\n",
       "      <td>1</td>\n",
       "      <td>3</td>\n",
       "      <td>2</td>\n",
       "      <td>4</td>\n",
       "      <td>4</td>\n",
       "      <td>1</td>\n",
       "      <td>322580</td>\n",
       "      <td>322227</td>\n",
       "      <td>0</td>\n",
       "      <td>1</td>\n",
       "      <td>353</td>\n",
       "      <td>1</td>\n",
       "    </tr>\n",
       "    <tr>\n",
       "      <th>3</th>\n",
       "      <td>2020-01-01</td>\n",
       "      <td>1</td>\n",
       "      <td>4</td>\n",
       "      <td>3</td>\n",
       "      <td>4</td>\n",
       "      <td>4</td>\n",
       "      <td>1</td>\n",
       "      <td>1945450</td>\n",
       "      <td>1830540</td>\n",
       "      <td>0</td>\n",
       "      <td>7592</td>\n",
       "      <td>114910</td>\n",
       "      <td>1</td>\n",
       "    </tr>\n",
       "    <tr>\n",
       "      <th>4</th>\n",
       "      <td>2020-01-01</td>\n",
       "      <td>1</td>\n",
       "      <td>4</td>\n",
       "      <td>3</td>\n",
       "      <td>4</td>\n",
       "      <td>4</td>\n",
       "      <td>0</td>\n",
       "      <td>310835</td>\n",
       "      <td>296239</td>\n",
       "      <td>3110</td>\n",
       "      <td>200</td>\n",
       "      <td>14596</td>\n",
       "      <td>1</td>\n",
       "    </tr>\n",
       "    <tr>\n",
       "      <th>...</th>\n",
       "      <td>...</td>\n",
       "      <td>...</td>\n",
       "      <td>...</td>\n",
       "      <td>...</td>\n",
       "      <td>...</td>\n",
       "      <td>...</td>\n",
       "      <td>...</td>\n",
       "      <td>...</td>\n",
       "      <td>...</td>\n",
       "      <td>...</td>\n",
       "      <td>...</td>\n",
       "      <td>...</td>\n",
       "      <td>...</td>\n",
       "    </tr>\n",
       "    <tr>\n",
       "      <th>58774</th>\n",
       "      <td>2020-12-31</td>\n",
       "      <td>33</td>\n",
       "      <td>23</td>\n",
       "      <td>21</td>\n",
       "      <td>4</td>\n",
       "      <td>1</td>\n",
       "      <td>1</td>\n",
       "      <td>109585</td>\n",
       "      <td>108445</td>\n",
       "      <td>0</td>\n",
       "      <td>1</td>\n",
       "      <td>1140</td>\n",
       "      <td>12</td>\n",
       "    </tr>\n",
       "    <tr>\n",
       "      <th>58775</th>\n",
       "      <td>2020-12-31</td>\n",
       "      <td>33</td>\n",
       "      <td>7</td>\n",
       "      <td>26</td>\n",
       "      <td>4</td>\n",
       "      <td>1</td>\n",
       "      <td>1</td>\n",
       "      <td>792070</td>\n",
       "      <td>786970</td>\n",
       "      <td>7920</td>\n",
       "      <td>3</td>\n",
       "      <td>5100</td>\n",
       "      <td>12</td>\n",
       "    </tr>\n",
       "    <tr>\n",
       "      <th>58776</th>\n",
       "      <td>2020-12-31</td>\n",
       "      <td>33</td>\n",
       "      <td>4</td>\n",
       "      <td>3</td>\n",
       "      <td>4</td>\n",
       "      <td>1</td>\n",
       "      <td>0</td>\n",
       "      <td>1601120</td>\n",
       "      <td>1601200</td>\n",
       "      <td>0</td>\n",
       "      <td>4</td>\n",
       "      <td>-80</td>\n",
       "      <td>12</td>\n",
       "    </tr>\n",
       "    <tr>\n",
       "      <th>58777</th>\n",
       "      <td>2020-12-31</td>\n",
       "      <td>33</td>\n",
       "      <td>9</td>\n",
       "      <td>21</td>\n",
       "      <td>4</td>\n",
       "      <td>1</td>\n",
       "      <td>1</td>\n",
       "      <td>390100</td>\n",
       "      <td>391030</td>\n",
       "      <td>11703</td>\n",
       "      <td>1</td>\n",
       "      <td>-930</td>\n",
       "      <td>12</td>\n",
       "    </tr>\n",
       "    <tr>\n",
       "      <th>58778</th>\n",
       "      <td>2020-12-31</td>\n",
       "      <td>33</td>\n",
       "      <td>3</td>\n",
       "      <td>26</td>\n",
       "      <td>4</td>\n",
       "      <td>1</td>\n",
       "      <td>1</td>\n",
       "      <td>1979090</td>\n",
       "      <td>1973040</td>\n",
       "      <td>19790</td>\n",
       "      <td>2</td>\n",
       "      <td>6050</td>\n",
       "      <td>12</td>\n",
       "    </tr>\n",
       "  </tbody>\n",
       "</table>\n",
       "<p>58779 rows × 13 columns</p>\n",
       "</div>"
      ],
      "text/plain": [
       "            Date channel_id category_id supplier_id industry_id pic_id status  \\\n",
       "0     2020-01-01          1           1           1           4      4      0   \n",
       "1     2020-01-01          1           2           1           4      4      1   \n",
       "2     2020-01-01          1           3           2           4      4      1   \n",
       "3     2020-01-01          1           4           3           4      4      1   \n",
       "4     2020-01-01          1           4           3           4      4      0   \n",
       "...          ...        ...         ...         ...         ...    ...    ...   \n",
       "58774 2020-12-31         33          23          21           4      1      1   \n",
       "58775 2020-12-31         33           7          26           4      1      1   \n",
       "58776 2020-12-31         33           4           3           4      1      0   \n",
       "58777 2020-12-31         33           9          21           4      1      1   \n",
       "58778 2020-12-31         33           3          26           4      1      1   \n",
       "\n",
       "       Revenue     Cost  commission  count  profit  month  \n",
       "0        98845    99048        2970      3    -203      1  \n",
       "1       879565   879563       26387      2       2      1  \n",
       "2       322580   322227           0      1     353      1  \n",
       "3      1945450  1830540           0   7592  114910      1  \n",
       "4       310835   296239        3110    200   14596      1  \n",
       "...        ...      ...         ...    ...     ...    ...  \n",
       "58774   109585   108445           0      1    1140     12  \n",
       "58775   792070   786970        7920      3    5100     12  \n",
       "58776  1601120  1601200           0      4     -80     12  \n",
       "58777   390100   391030       11703      1    -930     12  \n",
       "58778  1979090  1973040       19790      2    6050     12  \n",
       "\n",
       "[58779 rows x 13 columns]"
      ]
     },
     "execution_count": 197,
     "metadata": {},
     "output_type": "execute_result"
    }
   ],
   "source": [
    "# make a new dataframe which contain all data but only in 2020\n",
    "index_year = df['Date'].dt.year == 2020\n",
    "new_df = df[index_year]\n",
    "new_df"
   ]
  },
  {
   "cell_type": "code",
   "execution_count": 198,
   "id": "f5eb5aa7",
   "metadata": {},
   "outputs": [
    {
     "data": {
      "text/plain": [
       "month\n",
       "1     104471212\n",
       "2      60319347\n",
       "3     116074827\n",
       "4     238085790\n",
       "5     293010259\n",
       "6     511507503\n",
       "7     576452643\n",
       "8     297464741\n",
       "9     435993291\n",
       "10    440260788\n",
       "11    409994414\n",
       "12    384171184\n",
       "Name: profit, dtype: int64"
      ]
     },
     "execution_count": 198,
     "metadata": {},
     "output_type": "execute_result"
    }
   ],
   "source": [
    "#now search the total profit for each month in 2020\n",
    "new_df.groupby('month')['profit'].sum()"
   ]
  },
  {
   "cell_type": "code",
   "execution_count": 206,
   "id": "6a3c485f",
   "metadata": {},
   "outputs": [
    {
     "data": {
      "image/png": "[encoded data removed]",
      "text/plain": [
       "<Figure size 640x480 with 1 Axes>"
      ]
     },
     "metadata": {},
     "output_type": "display_data"
    }
   ],
   "source": [
    "#visualization\n",
    "\n",
    "index7 = new_df.groupby('month')['profit'].sum().index\n",
    "value7 = new_df.groupby('month')['profit'].sum().values\n",
    "x_month = [1,2,3,4,5,6,7,8,9,10,11,12]\n",
    "\n",
    "plt.plot(index7, value7)\n",
    "plt.title('Total profit for each month in 2020')\n",
    "plt.xlabel('Month')\n",
    "plt.ylabel('Total profit')\n",
    "plt.xticks(x_month,index7)\n",
    "\n",
    "plt.show()"
   ]
  },
  {
   "cell_type": "markdown",
   "id": "0da91c0f",
   "metadata": {},
   "source": [
    "### 3. Summary"
   ]
  },
  {
   "cell_type": "markdown",
   "id": "ca75ea51",
   "metadata": {},
   "source": [
    "1. Two channels that have best sales performance is channel 1 (Fashionista) where the total revenue is 24.781.598.085 and channel 9 (Galleria) where the total revenue is 6.185.959.390\n",
    "\n",
    "\n",
    "2. Two channels that have worst sales performance is channel 31 (Merch and dish) where the total revenue is 357.150 and channel 47 (Metro bank) where the total revenue is 1.552.320\n",
    "\n",
    "\n",
    "3. The top 2 industries with the biggest profit are industry with id is 3 (Finance) where the total profit is 3.383.936.354 and industry with id is 4 (Retail) where the total profit is  1.004.611.995\n",
    "\n",
    "\n",
    "4. The top 2 categories with the biggest profit are category with id is 4 (Prepaid Mobile) where the total profit is 3.492.866.353 and category with id is 8 (Mobile data) where the total profit is  599.206.486\n",
    "\n",
    "\n",
    "5. Pic id who have the biggest profit is 6 (Ismail Salahudin) where the total profit is 3.321.448.581\n",
    "\n",
    "\n",
    "6. Pic id who have the lowest profit is 5 (Dacin Nainggolan) where the total profit is 8.959.043\n",
    "\n",
    "\n",
    "7. From January to February, the total profit has decreased. From February to July the total profit has increased and the biggest total profit happened in July where the total profit in July is 11 times more than total profit in February. And from the July to August the total profit has decreased. And from August to end of December the total profit has a tedency to increase although from October to December the total profit has decreased. So if we compare the total profit in January to December, we have a good profit because the total profit better then January.\n",
    "\n",
    "\n",
    "8. I dont suggest to close this company because we have many profit in 2020 and the total profit in 2020 for each month always higher than total profit in January. Only total profit in February are smaller than total profit in January."
   ]
  }
 ],
 "metadata": {
  "kernelspec": {
   "display_name": "Python 3 (ipykernel)",
   "language": "python",
   "name": "python3"
  },
  "language_info": {
   "codemirror_mode": {
    "name": "ipython",
    "version": 3
   },
   "file_extension": ".py",
   "mimetype": "text/x-python",
   "name": "python",
   "nbconvert_exporter": "python",
   "pygments_lexer": "ipython3",
   "version": "3.10.6"
  }
 },
 "nbformat": 4,
 "nbformat_minor": 5
}
